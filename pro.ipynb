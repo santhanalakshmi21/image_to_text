{
 "cells": [
  {
   "cell_type": "code",
   "execution_count": 1,
   "id": "cf8406d3",
   "metadata": {},
   "outputs": [
    {
     "name": "stdout",
     "output_type": "stream",
     "text": [
      "Requirement already satisfied: pytesseract in c:\\users\\santhana\\anaconda\\lib\\site-packages (0.3.10)Note: you may need to restart the kernel to use updated packages.\n",
      "\n",
      "Requirement already satisfied: packaging>=21.3 in c:\\users\\santhana\\anaconda\\lib\\site-packages (from pytesseract) (23.0)\n",
      "Requirement already satisfied: Pillow>=8.0.0 in c:\\users\\santhana\\anaconda\\lib\\site-packages (from pytesseract) (8.4.0)\n"
     ]
    }
   ],
   "source": [
    "pip install pytesseract"
   ]
  },
  {
   "cell_type": "code",
   "execution_count": 3,
   "id": "3941cebb",
   "metadata": {},
   "outputs": [],
   "source": [
    "import pytesseract"
   ]
  },
  {
   "cell_type": "code",
   "execution_count": 4,
   "id": "30ab7994",
   "metadata": {},
   "outputs": [],
   "source": [
    "pytesseract.pytesseract.tesseract_cmd=r'C:\\Program Files\\Tesseract-OCR\\tesseract'"
   ]
  },
  {
   "cell_type": "code",
   "execution_count": 6,
   "id": "05a81a48",
   "metadata": {},
   "outputs": [
    {
     "name": "stdout",
     "output_type": "stream",
     "text": [
      "The most\n",
      "emporlanl\n",
      "things in life\n",
      "aren't things\n",
      "\n",
      "6\n",
      "\n"
     ]
    }
   ],
   "source": [
    "print(pytesseract.image_to_string(r'C:\\Users\\santhana\\Desktop\\pro\\medical_report.jpg'))"
   ]
  },
  {
   "cell_type": "code",
   "execution_count": null,
   "id": "a1b9e968",
   "metadata": {},
   "outputs": [],
   "source": []
  }
 ],
 "metadata": {
  "kernelspec": {
   "display_name": "Python 3 (ipykernel)",
   "language": "python",
   "name": "python3"
  },
  "language_info": {
   "codemirror_mode": {
    "name": "ipython",
    "version": 3
   },
   "file_extension": ".py",
   "mimetype": "text/x-python",
   "name": "python",
   "nbconvert_exporter": "python",
   "pygments_lexer": "ipython3",
   "version": "3.9.7"
  }
 },
 "nbformat": 4,
 "nbformat_minor": 5
}
